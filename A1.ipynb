{
  "nbformat": 4,
  "nbformat_minor": 0,
  "metadata": {
    "kernelspec": {
      "display_name": "Python 3",
      "language": "python",
      "name": "python3"
    },
    "language_info": {
      "codemirror_mode": {
        "name": "ipython",
        "version": 3
      },
      "file_extension": ".py",
      "mimetype": "text/x-python",
      "name": "python",
      "nbconvert_exporter": "python",
      "pygments_lexer": "ipython3",
      "version": "3.5.4"
    },
    "toc": {
      "base_numbering": 1,
      "nav_menu": {},
      "number_sections": true,
      "sideBar": true,
      "skip_h1_title": false,
      "title_cell": "Table of Contents",
      "title_sidebar": "Contents",
      "toc_cell": false,
      "toc_position": {},
      "toc_section_display": true,
      "toc_window_display": false
    },
    "colab": {
      "name": "A1.ipynb",
      "version": "0.3.2",
      "provenance": [],
      "collapsed_sections": [],
      "include_colab_link": true
    }
  },
  "cells": [
    {
      "cell_type": "markdown",
      "metadata": {
        "id": "view-in-github",
        "colab_type": "text"
      },
      "source": [
        "<a href=\"https://colab.research.google.com/github/Chenjie-UTS/UTS_ML2019-ID12769194/blob/master/A1.ipynb\" target=\"_parent\"><img src=\"https://colab.research.google.com/assets/colab-badge.svg\" alt=\"Open In Colab\"/></a>"
      ]
    },
    {
      "cell_type": "markdown",
      "metadata": {
        "id": "4sZ1ssam6jeQ",
        "colab_type": "text"
      },
      "source": [
        "# Review Report on \"PCA/LDA IN IMAGE PROCESSING\""
      ]
    },
    {
      "cell_type": "markdown",
      "metadata": {
        "id": "s1jLa0w_6jeR",
        "colab_type": "text"
      },
      "source": [
        "## Introduction"
      ]
    },
    {
      "cell_type": "markdown",
      "metadata": {
        "id": "xt7ErYTp6jeT",
        "colab_type": "text"
      },
      "source": [
        "## Content"
      ]
    },
    {
      "cell_type": "markdown",
      "metadata": {
        "id": "OqmBitb-6jeU",
        "colab_type": "text"
      },
      "source": [
        "This research report is about algorithms for face recognition. At the time, professionals had made considerable progress in face recognition. Although the lighting, facial expression and pose changed slightly, professionals can use technologies to recognize face. The point of view of Lambertian surface is mentioned in this research. All images are still in 3D linear space when viewed from a fixed point of view under different lighting. However, certain areas of the face can vary from different images because of shadows, facial expressions and so on. This also denies the view of Lambertian surface. In this case, the reliability of face recognition will be greatly reduced. As a result, the authors argue that it is difficult to identify faces with reliable techniques under more varied conditions.\n",
        "\n",
        "The intensity of the light, the direction of the light and the number of the light will all cause significant changes in the facial expression of the same person, even from the same observation angle. Based on these results, a new face recognition method is proposed. This type of face recognition is not easily affected by large changes in light and facial expressions. They named this method ‘Fisherface’. This method is based on Fisher’s Linear Discriminant, introduced by Robert Fisher in 1936. In contrast to other approaches that apply the theory, this approach has been shown to be able to cope with light changes. This report also selected three other face recognition methods for comparison. The author’s approach does not focus on handle changes in pose, because it is not difficult to deal with this problem."
      ]
    },
    {
      "cell_type": "markdown",
      "metadata": {
        "id": "-_2V2uo86jeV",
        "colab_type": "text"
      },
      "source": [
        "## Innovation"
      ]
    },
    {
      "cell_type": "markdown",
      "metadata": {
        "id": "R4KlxAxV6jeX",
        "colab_type": "text"
      },
      "source": [
        "The background at the time of the work is that people understood the problem as .... The creative idea is ..."
      ]
    },
    {
      "cell_type": "markdown",
      "metadata": {
        "id": "8YlE5Hz16jeY",
        "colab_type": "text"
      },
      "source": [
        "## Technical quality"
      ]
    },
    {
      "cell_type": "markdown",
      "metadata": {
        "id": "3W0ZgJDJ6jea",
        "colab_type": "text"
      },
      "source": [
        "The technical development if of high/low quality. The authors supported their theory using ..."
      ]
    },
    {
      "cell_type": "markdown",
      "metadata": {
        "id": "8rwbFYhJ6jea",
        "colab_type": "text"
      },
      "source": [
        "## Application and X-factor"
      ]
    },
    {
      "cell_type": "markdown",
      "metadata": {
        "id": "XHVSw7wK6jeb",
        "colab_type": "text"
      },
      "source": [
        "I find the proposal in the paper promising. ..."
      ]
    },
    {
      "cell_type": "markdown",
      "metadata": {
        "id": "XRN4so3X6jec",
        "colab_type": "text"
      },
      "source": [
        "## Presentation"
      ]
    },
    {
      "cell_type": "markdown",
      "metadata": {
        "id": "22wbbEMQ6jed",
        "colab_type": "text"
      },
      "source": [
        "The overall strucutre is clear. I found reading is easy / difficult. The paper could have been more attractive if the authors had organised ... / provided ... "
      ]
    },
    {
      "cell_type": "markdown",
      "metadata": {
        "id": "WhjGlARM6jee",
        "colab_type": "text"
      },
      "source": [
        "## References\n",
        "\n",
        "[SHA48][1]: Author, Title, Info\n",
        "\n",
        "[1]:https://google.com"
      ]
    }
  ]
}