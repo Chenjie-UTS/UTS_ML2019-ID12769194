{
  "nbformat": 4,
  "nbformat_minor": 0,
  "metadata": {
    "kernelspec": {
      "display_name": "Python 3",
      "language": "python",
      "name": "python3"
    },
    "language_info": {
      "codemirror_mode": {
        "name": "ipython",
        "version": 3
      },
      "file_extension": ".py",
      "mimetype": "text/x-python",
      "name": "python",
      "nbconvert_exporter": "python",
      "pygments_lexer": "ipython3",
      "version": "3.5.4"
    },
    "toc": {
      "base_numbering": 1,
      "nav_menu": {},
      "number_sections": true,
      "sideBar": true,
      "skip_h1_title": false,
      "title_cell": "Table of Contents",
      "title_sidebar": "Contents",
      "toc_cell": false,
      "toc_position": {},
      "toc_section_display": true,
      "toc_window_display": false
    },
    "colab": {
      "name": "A1.ipynb",
      "version": "0.3.2",
      "provenance": [],
      "collapsed_sections": [],
      "include_colab_link": true
    }
  },
  "cells": [
    {
      "cell_type": "markdown",
      "metadata": {
        "id": "view-in-github",
        "colab_type": "text"
      },
      "source": [
        "<a href=\"https://colab.research.google.com/github/Chenjie-UTS/UTS_ML2019-ID12769194/blob/master/A1.ipynb\" target=\"_parent\"><img src=\"https://colab.research.google.com/assets/colab-badge.svg\" alt=\"Open In Colab\"/></a>"
      ]
    },
    {
      "cell_type": "markdown",
      "metadata": {
        "id": "4sZ1ssam6jeQ",
        "colab_type": "text"
      },
      "source": [
        "# Review Report on \"PCA/LDA IN IMAGE PROCESSING\""
      ]
    },
    {
      "cell_type": "markdown",
      "metadata": {
        "id": "3spmIah4NVue",
        "colab_type": "text"
      },
      "source": [
        "Name: Chenjie Huang\n",
        "\n",
        "Student ID: 12769194\n",
        "\n",
        "Date: 28/8/2019"
      ]
    },
    {
      "cell_type": "markdown",
      "metadata": {
        "id": "s1jLa0w_6jeR",
        "colab_type": "text"
      },
      "source": [
        "## Introduction"
      ]
    },
    {
      "cell_type": "markdown",
      "metadata": {
        "id": "0IARYHfJCnwt",
        "colab_type": "text"
      },
      "source": [
        "https://github.com/Chenjie-UTS/UTS_ML2019-ID12769194/blob/master/A1.ipynb"
      ]
    },
    {
      "cell_type": "markdown",
      "metadata": {
        "id": "xt7ErYTp6jeT",
        "colab_type": "text"
      },
      "source": [
        "## Content"
      ]
    },
    {
      "cell_type": "markdown",
      "metadata": {
        "id": "OqmBitb-6jeU",
        "colab_type": "text"
      },
      "source": [
        "This research report is about algorithms for face recognition. At the time, professionals had made considerable progress in face recognition. Although the lighting, facial expression and pose changed slightly, professionals can use technologies to recognize face. The point of view of Lambertian surface is mentioned in this research. All images are still in 3D linear space when viewed from a fixed point of view under different lighting. However, certain areas of the face can vary from different images because of shadows, facial expressions and so on. This also denies the view of Lambertian surface. In this case, the reliability of face recognition will be greatly reduced. As a result, the authors argue that it is difficult to identify faces with reliable techniques under more varied conditions.\n",
        "\n",
        "The intensity of the light, the direction of the light and the number of the light will all cause significant changes in the facial expression of the same person, even from the same observation angle. Based on these results, a new face recognition method is proposed. This type of face recognition is not easily affected by large changes in light and facial expressions. They named this method ‘Fisherface’. This method is based on Fisher’s Linear Discriminant, introduced by Robert Fisher in 1936. In contrast to other approaches that apply the theory, this approach has been shown to be able to cope with light changes. This report also selected three other face recognition methods for comparison. The author’s approach does not focus on handle changes in pose, because it is not difficult to deal with this problem."
      ]
    },
    {
      "cell_type": "markdown",
      "metadata": {
        "id": "-_2V2uo86jeV",
        "colab_type": "text"
      },
      "source": [
        "## Innovation"
      ]
    },
    {
      "cell_type": "markdown",
      "metadata": {
        "id": "R4KlxAxV6jeX",
        "colab_type": "text"
      },
      "source": [
        "Fisherfaces is a new approach to face recognition proposed by the authors in this research. This method can better deal with large changes in light and facial expressions when recognizing faces. Authors observed feature Spaces that were insensitive to changes in lighting direction and facial expression. They projected light and facial expressions in directions roughly orthogonal to the scattering within the class. Belhumeur, Hespanha and Kriegman (1997) point out that ‘Fisherface is a derivative of Fisher’s Linear Discriminant (FLD)’. The FLD was first proposed by Robert Fisher in 1936. In addition, authors compare correlation, a variant of the linear subspace method and the Eigenface method to the Fisherface. When light and facial expressions change, the rate of errors of the Fisherface method in recognizing faces is lower than the other three approaches. And this method of Fisherface can expand to handle finite postural changes. This method also simplifies classification. The authors are also investigating other methods to maximize the inter-class scattering of projected samples. By comparison, this method of Fisherface has a lower error rate and shorter computational time. This is a good way to recognize faces when light changes, facial expressions change and glasses are present. This method ignores parts of the image that are not important for identifying individuals. For example, the mouth will change because of facial expressions, while the nose and glasses will not change. Therefore, it can be inferred that this method can reduce intra-class dispersion of all classes. In this case, Fisherface can simplify classification. In summary, Fisherface is the best way to extrapolate and interpolate light changes. It is also the best way to deal with light and facial expression changes at the same time.\n",
        "\n",
        "<img src=\"https://github.com/Chenjie-UTS/UTS_ML2019-ID12769194/blob/master/error%20rate.png?raw=true\" width=\"400\"/> "
      ]
    },
    {
      "cell_type": "markdown",
      "metadata": {
        "id": "8YlE5Hz16jeY",
        "colab_type": "text"
      },
      "source": [
        "## Technical quality"
      ]
    },
    {
      "cell_type": "markdown",
      "metadata": {
        "id": "3W0ZgJDJ6jea",
        "colab_type": "text"
      },
      "source": [
        "I think the technical quality of this research is high. The new face recognition method proposed by the authors is not guesswork, but an improvement based on Fisher’s Linear Discriminant. Before the author proposed this new face recognition method, some researchers proposed other face recognition theories by using Fisher’s Linear Discriminant. Although these theories were not implemented at the time, they proved that this method could be used to face recognition in the case of light changes. This report is not entirely based on theory. Instead, three different face recognition methods were selected and compared with Fisherface method under different lighting conditions and changes in facial expressions. The image data were from databases harvard and Yale. Two sets of face images were used, one with an id label (learning set) and one without (test set). They tested and compared the accuracy of these four face recognition methods. For the experimental data, the corresponding algorithm is also given by authors in the report. Some experimental data and methods are also explained in detail through pictures and notes. This can help the readers understand professional parts better. I can also have a deeper understanding of the results by comparing the experimental pictures.The technical development if of high/low quality. The authors supported their theory using ..."
      ]
    },
    {
      "cell_type": "markdown",
      "metadata": {
        "id": "8rwbFYhJ6jea",
        "colab_type": "text"
      },
      "source": [
        "## Application and X-factor"
      ]
    },
    {
      "cell_type": "markdown",
      "metadata": {
        "id": "XHVSw7wK6jeb",
        "colab_type": "text"
      },
      "source": [
        "I find the proposal in this report very promising for application because it is more accurate than other experimental methods. In addition, this method can perform better in face recognition when lighting, facial expressions and postures change. Its algorithm takes less time to calculate and its working principle provides the possibility to simplify classification. This research not only provides the possibility of progress for access control system, e-passport, self-service, etc., but also may be applicable to the entertainment field, such as live changing makeup, special effects and so on. The authors think that the new method proposed in the report needs new test methods to support the algorithm. Moreover, the authors believe that in face recognition technology, the modeling or masking of the shadow region will be a new research direction, because the function of all recognition methods will decline when the shadow is dominant. I think this is an interesting report, because it gives me a deeper understanding of face recognition technology. Face recognition is not only images to images, but also involves technologies and algorithms. I think the content of this report can lead to discussed in class. This paper not only presents a lot of experimental data, but also raises two interesting questions for readers to think about."
      ]
    },
    {
      "cell_type": "markdown",
      "metadata": {
        "id": "XRN4so3X6jec",
        "colab_type": "text"
      },
      "source": [
        "## Presentation"
      ]
    },
    {
      "cell_type": "markdown",
      "metadata": {
        "id": "22wbbEMQ6jed",
        "colab_type": "text"
      },
      "source": [
        "The general structure of the report was clear, and I found it easy to read. At the beginning, the author presents the research problem and the proposed new face recognition method. Then the author introduces the experimental methods and data sources in detail. The algorithm and pictures are given in the description of the following experiment to help readers understand. The conclusion of this paper is to list the results of comparing four methods. Authors also puts forward new research questions for readers to think about to lead discussions and gives some suggestions for the following face recognition research. I think this article is really good in general. If the author can give some opinions after the two questions at the end, it will make the article more attractive."
      ]
    },
    {
      "cell_type": "markdown",
      "metadata": {
        "id": "WhjGlARM6jee",
        "colab_type": "text"
      },
      "source": [
        "## References\n",
        "\n",
        "\n",
        "\n",
        "Belhumeur, P.N., Hespanha, J.P. & Kriegman, D.J. 1997, 'Eigenfaces vs. Fisherfaces: recognition using class specific linear projection', IEEE Transactions on Pattern Analysis and Machine Intelligence, vol. 19, no. 7, pp. 711-20.\n",
        "\n",
        "Lu, Q. & Qiao, X. 2018, 'Sparse Fisher's linear discriminant analysis for partially labeled data', Statistical Analysis and Data Mining: The ASA Data Science Journal, vol. 11, no. 1, pp. 17-31.\n",
        "\n",
        "Martinez, A.M. & Kak, A.C. 2001, 'PCA versus LDA', IEEE Transactions on Pattern Analysis and Machine Intelligence, vol. 23, no. 2, pp. 228-33.\n",
        "\n",
        "[1]:https://google.com"
      ]
    }
  ]
}