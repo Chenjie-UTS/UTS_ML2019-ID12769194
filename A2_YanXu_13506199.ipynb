{
  "nbformat": 4,
  "nbformat_minor": 0,
  "metadata": {
    "colab": {
      "name": "A2_YanXu_13506199.ipynb",
      "provenance": [],
      "include_colab_link": true
    },
    "kernelspec": {
      "name": "python3",
      "display_name": "Python 3"
    }
  },
  "cells": [
    {
      "cell_type": "markdown",
      "metadata": {
        "id": "view-in-github",
        "colab_type": "text"
      },
      "source": [
        "<a href=\"https://colab.research.google.com/github/Chenjie-UTS/UTS_ML2019-ID12769194/blob/master/A2_YanXu_13506199.ipynb\" target=\"_parent\"><img src=\"https://colab.research.google.com/assets/colab-badge.svg\" alt=\"Open In Colab\"/></a>"
      ]
    },
    {
      "cell_type": "code",
      "metadata": {
        "id": "S-qn6lsJiznO",
        "colab_type": "code",
        "colab": {}
      },
      "source": [
        "import numpy as np\n",
        "import pandas as pd\n",
        "from pandas.api.types import is_string_dtype\n",
        "from pandas.api.types import is_numeric_dtype\n",
        "import seaborn as sns\n",
        "import matplotlib.pyplot as plt\n",
        "import csv\n"
      ],
      "execution_count": 0,
      "outputs": []
    },
    {
      "cell_type": "code",
      "metadata": {
        "id": "YB0a0GDbiwLJ",
        "colab_type": "code",
        "cellView": "both",
        "colab": {}
      },
      "source": [
        "from pathlib import Path\n",
        "DATA_URL = 'https://drive.google.com/open?id=1S4xFtrJ8nJRJLXmmGJaYB8aWDZMVfTkc'\n",
        "DATA_FILENAME = \"sydney-airbnb-open-data.zip\"\n",
        "\n",
        "data_dir = Path(\"./data/\")\n",
        "# Create dir structure if not existing\n",
        "data_dir.mkdir(parents=True, exist_ok=True) \n",
        "filepath = data_dir / DATA_FILENAME\n",
        "\n",
        "data_source = \"Google Drive\"  #@param ['Existing', 'Google Drive', 'NOAA/ERSL']\n",
        "#@markdown --- \n",
        "\n",
        "if not filepath.exists():\n",
        "    if data_source == 'Existing':\n",
        "       raise ValueError(\"File doesn't exist, plese choose a source to get the file\")\n",
        "    elif data_source == \"Google Drive\":\n",
        "        # Install the PyDrive wrapper & import libraries.\n",
        "        # This only needs to be done once per notebook.\n",
        "        !pip install -U -q PyDrive\n",
        "        from pydrive.auth import GoogleAuth\n",
        "        from pydrive.drive import GoogleDrive\n",
        "        from google.colab import auth\n",
        "        from oauth2client.client import GoogleCredentials\n",
        "\n",
        "        # Authenticate and create the PyDrive client.\n",
        "        # This only needs to be done once per notebook.\n",
        "        auth.authenticate_user()\n",
        "        gauth = GoogleAuth()\n",
        "        gauth.credentials = GoogleCredentials.get_application_default()\n",
        "        drive = GoogleDrive(gauth)\n",
        "\n",
        "        # Download a file based on its file ID.\n",
        "        #\n",
        "        # A file ID looks like: laggVyWshwcyP6kEI-y_W3P8D26sz\n",
        "        file_id = '1S4xFtrJ8nJRJLXmmGJaYB8aWDZMVfTkc'\n",
        "        downloaded = drive.CreateFile({'id': file_id})\n",
        "        downloaded.GetContentFile(str(filepath))\n",
        "    elif data_source == \"NOAA/ERSL\":\n",
        "        import urllib.request\n",
        "        urllib.request.urlretrieve(DATA_URL, str(filepath))"
      ],
      "execution_count": 0,
      "outputs": []
    },
    {
      "cell_type": "code",
      "metadata": {
        "id": "EJzMpb7Xi-zq",
        "colab_type": "code",
        "colab": {}
      },
      "source": [
        "import zipfile\n",
        "zf = zipfile.ZipFile(filepath)\n",
        "zf.extractall('./data/')\n",
        "df = pd.read_csv(zf.open('listings_summary_dec18.csv'), encoding = \"ISO-8859-1\")"
      ],
      "execution_count": 0,
      "outputs": []
    },
    {
      "cell_type": "code",
      "metadata": {
        "id": "rFGp0KTPjded",
        "colab_type": "code",
        "colab": {}
      },
      "source": [
        "# Import listings_summary, load as pandas dataframe\n",
        "listings_data = pd.read_csv('./data/listings_summary_dec18.csv')\n",
        "#Create dataframe listings with relevant columns （ drop 'neigbourhood group' column as NULL）\n",
        "listings = listings_data[['id','name','host_id','host_name','neighbourhood','latitude','longitude','room_type','price','minimum_nights','number_of_reviews','last_review','reviews_per_month','calculated_host_listings_count','availability_365']]"
      ],
      "execution_count": 0,
      "outputs": []
    },
    {
      "cell_type": "markdown",
      "metadata": {
        "id": "ML9qFqxe3OAY",
        "colab_type": "text"
      },
      "source": [
        "idlisting ID\n",
        "\n",
        "namename of the listing\n",
        "\n",
        "host_idhost ID\n",
        "\n",
        "host_namename of the host\n",
        "\n",
        "neighbourhood_grouplocation\n",
        "\n",
        "neighbourhoodarea\n",
        "\n",
        "latitudelatitude coordinates\n",
        "\n",
        "longitudelongitude coordinates\n",
        "\n",
        "room_typelisting space type\n",
        "\n",
        "priceprice in dollars\n",
        "\n",
        "minimum_nightsamount of nights minimum\n",
        "\n",
        "number_of_reviewsnumber of reviews\n",
        "\n",
        "last_reviewlatest review\n",
        "\n",
        "reviews_per_monthnumber of reviews per month\n",
        "\n",
        "calculated_host_listings_countamount of listing per host\n",
        "\n",
        "availability_365number of days when listing is available for booking"
      ]
    },
    {
      "cell_type": "code",
      "metadata": {
        "id": "FvlESzoz25NF",
        "colab_type": "code",
        "outputId": "f5f25910-dfb6-4ce0-d36b-4f6a17c7adaf",
        "colab": {
          "base_uri": "https://localhost:8080/",
          "height": 377
        }
      },
      "source": [
        "listings.info()"
      ],
      "execution_count": 9,
      "outputs": [
        {
          "output_type": "stream",
          "text": [
            "<class 'pandas.core.frame.DataFrame'>\n",
            "RangeIndex: 36662 entries, 0 to 36661\n",
            "Data columns (total 15 columns):\n",
            "id                                36662 non-null int64\n",
            "name                              36650 non-null object\n",
            "host_id                           36662 non-null int64\n",
            "host_name                         36656 non-null object\n",
            "neighbourhood                     36662 non-null object\n",
            "latitude                          36662 non-null float64\n",
            "longitude                         36662 non-null float64\n",
            "room_type                         36662 non-null object\n",
            "price                             36662 non-null int64\n",
            "minimum_nights                    36662 non-null int64\n",
            "number_of_reviews                 36662 non-null int64\n",
            "last_review                       24725 non-null object\n",
            "reviews_per_month                 24725 non-null float64\n",
            "calculated_host_listings_count    36662 non-null int64\n",
            "availability_365                  36662 non-null int64\n",
            "dtypes: float64(3), int64(7), object(5)\n",
            "memory usage: 4.2+ MB\n"
          ],
          "name": "stdout"
        }
      ]
    },
    {
      "cell_type": "code",
      "metadata": {
        "id": "Eu_BbI9EjmTy",
        "colab_type": "code",
        "outputId": "87420111-2d69-436a-96f9-ca90a8d51cec",
        "colab": {
          "base_uri": "https://localhost:8080/",
          "height": 513
        }
      },
      "source": [
        "listings.head()"
      ],
      "execution_count": 10,
      "outputs": [
        {
          "output_type": "execute_result",
          "data": {
            "text/html": [
              "<div>\n",
              "<style scoped>\n",
              "    .dataframe tbody tr th:only-of-type {\n",
              "        vertical-align: middle;\n",
              "    }\n",
              "\n",
              "    .dataframe tbody tr th {\n",
              "        vertical-align: top;\n",
              "    }\n",
              "\n",
              "    .dataframe thead th {\n",
              "        text-align: right;\n",
              "    }\n",
              "</style>\n",
              "<table border=\"1\" class=\"dataframe\">\n",
              "  <thead>\n",
              "    <tr style=\"text-align: right;\">\n",
              "      <th></th>\n",
              "      <th>id</th>\n",
              "      <th>name</th>\n",
              "      <th>host_id</th>\n",
              "      <th>host_name</th>\n",
              "      <th>neighbourhood</th>\n",
              "      <th>latitude</th>\n",
              "      <th>longitude</th>\n",
              "      <th>room_type</th>\n",
              "      <th>price</th>\n",
              "      <th>minimum_nights</th>\n",
              "      <th>number_of_reviews</th>\n",
              "      <th>last_review</th>\n",
              "      <th>reviews_per_month</th>\n",
              "      <th>calculated_host_listings_count</th>\n",
              "      <th>availability_365</th>\n",
              "    </tr>\n",
              "  </thead>\n",
              "  <tbody>\n",
              "    <tr>\n",
              "      <th>0</th>\n",
              "      <td>12351</td>\n",
              "      <td>Sydney City &amp; Harbour at the door</td>\n",
              "      <td>17061</td>\n",
              "      <td>Stuart</td>\n",
              "      <td>Sydney</td>\n",
              "      <td>-33.865153</td>\n",
              "      <td>151.191896</td>\n",
              "      <td>Private room</td>\n",
              "      <td>100</td>\n",
              "      <td>2</td>\n",
              "      <td>493</td>\n",
              "      <td>2018-11-21</td>\n",
              "      <td>4.83</td>\n",
              "      <td>2</td>\n",
              "      <td>187</td>\n",
              "    </tr>\n",
              "    <tr>\n",
              "      <th>1</th>\n",
              "      <td>14250</td>\n",
              "      <td>Manly Harbour House</td>\n",
              "      <td>55948</td>\n",
              "      <td>Heidi</td>\n",
              "      <td>Manly</td>\n",
              "      <td>-33.800929</td>\n",
              "      <td>151.261722</td>\n",
              "      <td>Entire home/apt</td>\n",
              "      <td>471</td>\n",
              "      <td>5</td>\n",
              "      <td>1</td>\n",
              "      <td>2016-01-02</td>\n",
              "      <td>0.03</td>\n",
              "      <td>2</td>\n",
              "      <td>321</td>\n",
              "    </tr>\n",
              "    <tr>\n",
              "      <th>2</th>\n",
              "      <td>15253</td>\n",
              "      <td>Stunning Penthouse Apartment In Heart Of The City</td>\n",
              "      <td>59850</td>\n",
              "      <td>Morag</td>\n",
              "      <td>Sydney</td>\n",
              "      <td>-33.880455</td>\n",
              "      <td>151.216541</td>\n",
              "      <td>Private room</td>\n",
              "      <td>109</td>\n",
              "      <td>2</td>\n",
              "      <td>300</td>\n",
              "      <td>2018-11-16</td>\n",
              "      <td>3.63</td>\n",
              "      <td>2</td>\n",
              "      <td>316</td>\n",
              "    </tr>\n",
              "    <tr>\n",
              "      <th>3</th>\n",
              "      <td>20865</td>\n",
              "      <td>3 BED HOUSE + 1 BED STUDIO Balmain</td>\n",
              "      <td>64282</td>\n",
              "      <td>Fiona</td>\n",
              "      <td>Leichhardt</td>\n",
              "      <td>-33.859072</td>\n",
              "      <td>151.172753</td>\n",
              "      <td>Entire home/apt</td>\n",
              "      <td>450</td>\n",
              "      <td>7</td>\n",
              "      <td>15</td>\n",
              "      <td>2018-01-07</td>\n",
              "      <td>0.18</td>\n",
              "      <td>1</td>\n",
              "      <td>69</td>\n",
              "    </tr>\n",
              "    <tr>\n",
              "      <th>4</th>\n",
              "      <td>26174</td>\n",
              "      <td>COZY PRIVATE ROOM, GREAT LOCATION!</td>\n",
              "      <td>110561</td>\n",
              "      <td>Amanda</td>\n",
              "      <td>Woollahra</td>\n",
              "      <td>-33.889087</td>\n",
              "      <td>151.259404</td>\n",
              "      <td>Private room</td>\n",
              "      <td>62</td>\n",
              "      <td>1</td>\n",
              "      <td>42</td>\n",
              "      <td>2018-11-23</td>\n",
              "      <td>0.45</td>\n",
              "      <td>1</td>\n",
              "      <td>140</td>\n",
              "    </tr>\n",
              "  </tbody>\n",
              "</table>\n",
              "</div>"
            ],
            "text/plain": [
              "      id  ... availability_365\n",
              "0  12351  ...              187\n",
              "1  14250  ...              321\n",
              "2  15253  ...              316\n",
              "3  20865  ...               69\n",
              "4  26174  ...              140\n",
              "\n",
              "[5 rows x 15 columns]"
            ]
          },
          "metadata": {
            "tags": []
          },
          "execution_count": 10
        }
      ]
    },
    {
      "cell_type": "code",
      "metadata": {
        "id": "JtKHkii6ks3j",
        "colab_type": "code",
        "colab": {}
      },
      "source": [
        "import sklearn as sk\n",
        "from sklearn import preprocessing\n",
        "from sklearn.pipeline import Pipeline\n",
        "from sklearn.impute import SimpleImputer\n",
        "from sklearn.preprocessing import OneHotEncoder\n",
        "from sklearn.preprocessing import LabelEncoder\n",
        "from numpy import array\n",
        "import datetime\n",
        "#from sklearn.tree import DecisionTreeClassifier"
      ],
      "execution_count": 0,
      "outputs": []
    },
    {
      "cell_type": "code",
      "metadata": {
        "id": "rZnyoYD3kcPB",
        "colab_type": "code",
        "outputId": "bf1c501b-2385-41fa-f154-f5f5301b9012",
        "colab": {
          "base_uri": "https://localhost:8080/",
          "height": 513
        }
      },
      "source": [
        "label_encoder = LabelEncoder()\n",
        "copylistings = listings.copy();\n",
        "\n",
        "copylistings['price'] = copylistings['price'].astype(float)\n",
        "\n",
        "#copylistings['lr_year'] = pd.DatetimeIndex(copylistings['last_review']).year\n",
        "#copylistings['lr_month'] = pd.DatetimeIndex(copylistings['last_review']).month\n",
        "#copylistings['lr_day'] = pd.DatetimeIndex(copylistings['last_review']).month\n",
        "\n",
        "copylistings['rt_encode']= label_encoder.fit_transform(listings['room_type'])\n",
        "copylistings['nbh_encode']= label_encoder.fit_transform(listings['neighbourhood'])\n",
        "\n",
        "copylistings.head()"
      ],
      "execution_count": 12,
      "outputs": [
        {
          "output_type": "execute_result",
          "data": {
            "text/html": [
              "<div>\n",
              "<style scoped>\n",
              "    .dataframe tbody tr th:only-of-type {\n",
              "        vertical-align: middle;\n",
              "    }\n",
              "\n",
              "    .dataframe tbody tr th {\n",
              "        vertical-align: top;\n",
              "    }\n",
              "\n",
              "    .dataframe thead th {\n",
              "        text-align: right;\n",
              "    }\n",
              "</style>\n",
              "<table border=\"1\" class=\"dataframe\">\n",
              "  <thead>\n",
              "    <tr style=\"text-align: right;\">\n",
              "      <th></th>\n",
              "      <th>id</th>\n",
              "      <th>name</th>\n",
              "      <th>host_id</th>\n",
              "      <th>host_name</th>\n",
              "      <th>neighbourhood</th>\n",
              "      <th>latitude</th>\n",
              "      <th>longitude</th>\n",
              "      <th>room_type</th>\n",
              "      <th>price</th>\n",
              "      <th>minimum_nights</th>\n",
              "      <th>number_of_reviews</th>\n",
              "      <th>last_review</th>\n",
              "      <th>reviews_per_month</th>\n",
              "      <th>calculated_host_listings_count</th>\n",
              "      <th>availability_365</th>\n",
              "      <th>rt_encode</th>\n",
              "      <th>nbh_encode</th>\n",
              "    </tr>\n",
              "  </thead>\n",
              "  <tbody>\n",
              "    <tr>\n",
              "      <th>0</th>\n",
              "      <td>12351</td>\n",
              "      <td>Sydney City &amp; Harbour at the door</td>\n",
              "      <td>17061</td>\n",
              "      <td>Stuart</td>\n",
              "      <td>Sydney</td>\n",
              "      <td>-33.865153</td>\n",
              "      <td>151.191896</td>\n",
              "      <td>Private room</td>\n",
              "      <td>100.0</td>\n",
              "      <td>2</td>\n",
              "      <td>493</td>\n",
              "      <td>2018-11-21</td>\n",
              "      <td>4.83</td>\n",
              "      <td>2</td>\n",
              "      <td>187</td>\n",
              "      <td>1</td>\n",
              "      <td>32</td>\n",
              "    </tr>\n",
              "    <tr>\n",
              "      <th>1</th>\n",
              "      <td>14250</td>\n",
              "      <td>Manly Harbour House</td>\n",
              "      <td>55948</td>\n",
              "      <td>Heidi</td>\n",
              "      <td>Manly</td>\n",
              "      <td>-33.800929</td>\n",
              "      <td>151.261722</td>\n",
              "      <td>Entire home/apt</td>\n",
              "      <td>471.0</td>\n",
              "      <td>5</td>\n",
              "      <td>1</td>\n",
              "      <td>2016-01-02</td>\n",
              "      <td>0.03</td>\n",
              "      <td>2</td>\n",
              "      <td>321</td>\n",
              "      <td>0</td>\n",
              "      <td>20</td>\n",
              "    </tr>\n",
              "    <tr>\n",
              "      <th>2</th>\n",
              "      <td>15253</td>\n",
              "      <td>Stunning Penthouse Apartment In Heart Of The City</td>\n",
              "      <td>59850</td>\n",
              "      <td>Morag</td>\n",
              "      <td>Sydney</td>\n",
              "      <td>-33.880455</td>\n",
              "      <td>151.216541</td>\n",
              "      <td>Private room</td>\n",
              "      <td>109.0</td>\n",
              "      <td>2</td>\n",
              "      <td>300</td>\n",
              "      <td>2018-11-16</td>\n",
              "      <td>3.63</td>\n",
              "      <td>2</td>\n",
              "      <td>316</td>\n",
              "      <td>1</td>\n",
              "      <td>32</td>\n",
              "    </tr>\n",
              "    <tr>\n",
              "      <th>3</th>\n",
              "      <td>20865</td>\n",
              "      <td>3 BED HOUSE + 1 BED STUDIO Balmain</td>\n",
              "      <td>64282</td>\n",
              "      <td>Fiona</td>\n",
              "      <td>Leichhardt</td>\n",
              "      <td>-33.859072</td>\n",
              "      <td>151.172753</td>\n",
              "      <td>Entire home/apt</td>\n",
              "      <td>450.0</td>\n",
              "      <td>7</td>\n",
              "      <td>15</td>\n",
              "      <td>2018-01-07</td>\n",
              "      <td>0.18</td>\n",
              "      <td>1</td>\n",
              "      <td>69</td>\n",
              "      <td>0</td>\n",
              "      <td>18</td>\n",
              "    </tr>\n",
              "    <tr>\n",
              "      <th>4</th>\n",
              "      <td>26174</td>\n",
              "      <td>COZY PRIVATE ROOM, GREAT LOCATION!</td>\n",
              "      <td>110561</td>\n",
              "      <td>Amanda</td>\n",
              "      <td>Woollahra</td>\n",
              "      <td>-33.889087</td>\n",
              "      <td>151.259404</td>\n",
              "      <td>Private room</td>\n",
              "      <td>62.0</td>\n",
              "      <td>1</td>\n",
              "      <td>42</td>\n",
              "      <td>2018-11-23</td>\n",
              "      <td>0.45</td>\n",
              "      <td>1</td>\n",
              "      <td>140</td>\n",
              "      <td>1</td>\n",
              "      <td>37</td>\n",
              "    </tr>\n",
              "  </tbody>\n",
              "</table>\n",
              "</div>"
            ],
            "text/plain": [
              "      id  ... nbh_encode\n",
              "0  12351  ...         32\n",
              "1  14250  ...         20\n",
              "2  15253  ...         32\n",
              "3  20865  ...         18\n",
              "4  26174  ...         37\n",
              "\n",
              "[5 rows x 17 columns]"
            ]
          },
          "metadata": {
            "tags": []
          },
          "execution_count": 12
        }
      ]
    },
    {
      "cell_type": "code",
      "metadata": {
        "id": "c0FTC8XGlGmX",
        "colab_type": "code",
        "outputId": "fae6b0e2-8b44-4590-9f09-8094c7a1f50e",
        "colab": {
          "base_uri": "https://localhost:8080/",
          "height": 552
        }
      },
      "source": [
        "from sklearn.model_selection import train_test_split\n",
        "\n",
        "train_data, test_data = train_test_split(copylistings, test_size=0.2)\n",
        "\n",
        "from sklearn.neighbors import KNeighborsRegressor\n",
        "knn = KNeighborsRegressor(algorithm='brute')\n",
        "\n",
        "\n",
        "cols = ['number_of_reviews','rt_encode','nbh_encode','availability_365','minimum_nights','calculated_host_listings_count']\n",
        "#normalized_copylistings[] = preprocessing.normalize(copylistings)\n",
        "#normalizer = preprocessing.Normalizer().fit(cols)  # fit does nothing\n",
        "#normalizer\n",
        "#Normalizer(copy=True, norm='l1')\n",
        "\n",
        "knn.fit(train_data[cols], train_data['price'])\n",
        "predict_data = knn.predict(test_data[cols])\n",
        "\n",
        "test_data['predict_data']= knn.predict(test_data[cols])\n",
        "\n",
        "test_data.head()\n"
      ],
      "execution_count": 13,
      "outputs": [
        {
          "output_type": "stream",
          "text": [
            "/usr/local/lib/python3.6/dist-packages/ipykernel_launcher.py:18: SettingWithCopyWarning: \n",
            "A value is trying to be set on a copy of a slice from a DataFrame.\n",
            "Try using .loc[row_indexer,col_indexer] = value instead\n",
            "\n",
            "See the caveats in the documentation: http://pandas.pydata.org/pandas-docs/stable/indexing.html#indexing-view-versus-copy\n"
          ],
          "name": "stderr"
        },
        {
          "output_type": "execute_result",
          "data": {
            "text/html": [
              "<div>\n",
              "<style scoped>\n",
              "    .dataframe tbody tr th:only-of-type {\n",
              "        vertical-align: middle;\n",
              "    }\n",
              "\n",
              "    .dataframe tbody tr th {\n",
              "        vertical-align: top;\n",
              "    }\n",
              "\n",
              "    .dataframe thead th {\n",
              "        text-align: right;\n",
              "    }\n",
              "</style>\n",
              "<table border=\"1\" class=\"dataframe\">\n",
              "  <thead>\n",
              "    <tr style=\"text-align: right;\">\n",
              "      <th></th>\n",
              "      <th>id</th>\n",
              "      <th>name</th>\n",
              "      <th>host_id</th>\n",
              "      <th>host_name</th>\n",
              "      <th>neighbourhood</th>\n",
              "      <th>latitude</th>\n",
              "      <th>longitude</th>\n",
              "      <th>room_type</th>\n",
              "      <th>price</th>\n",
              "      <th>minimum_nights</th>\n",
              "      <th>number_of_reviews</th>\n",
              "      <th>last_review</th>\n",
              "      <th>reviews_per_month</th>\n",
              "      <th>calculated_host_listings_count</th>\n",
              "      <th>availability_365</th>\n",
              "      <th>rt_encode</th>\n",
              "      <th>nbh_encode</th>\n",
              "      <th>predict_data</th>\n",
              "    </tr>\n",
              "  </thead>\n",
              "  <tbody>\n",
              "    <tr>\n",
              "      <th>9509</th>\n",
              "      <td>12142056</td>\n",
              "      <td>opposite RPAH</td>\n",
              "      <td>36517930</td>\n",
              "      <td>Cynthia</td>\n",
              "      <td>Sydney</td>\n",
              "      <td>-33.888865</td>\n",
              "      <td>151.180991</td>\n",
              "      <td>Entire home/apt</td>\n",
              "      <td>651.0</td>\n",
              "      <td>14</td>\n",
              "      <td>1</td>\n",
              "      <td>2016-06-18</td>\n",
              "      <td>0.03</td>\n",
              "      <td>1</td>\n",
              "      <td>0</td>\n",
              "      <td>0</td>\n",
              "      <td>32</td>\n",
              "      <td>101.8</td>\n",
              "    </tr>\n",
              "    <tr>\n",
              "      <th>12397</th>\n",
              "      <td>15481369</td>\n",
              "      <td>A Master room in summerhill</td>\n",
              "      <td>99387297</td>\n",
              "      <td>William</td>\n",
              "      <td>Ashfield</td>\n",
              "      <td>-33.887748</td>\n",
              "      <td>151.138539</td>\n",
              "      <td>Private room</td>\n",
              "      <td>37.0</td>\n",
              "      <td>2</td>\n",
              "      <td>0</td>\n",
              "      <td>NaN</td>\n",
              "      <td>NaN</td>\n",
              "      <td>1</td>\n",
              "      <td>0</td>\n",
              "      <td>1</td>\n",
              "      <td>0</td>\n",
              "      <td>51.4</td>\n",
              "    </tr>\n",
              "    <tr>\n",
              "      <th>32364</th>\n",
              "      <td>29292722</td>\n",
              "      <td>Brand New One Bed APT with garden view In Wate...</td>\n",
              "      <td>175776759</td>\n",
              "      <td>Bella</td>\n",
              "      <td>Sydney</td>\n",
              "      <td>-33.902405</td>\n",
              "      <td>151.213624</td>\n",
              "      <td>Entire home/apt</td>\n",
              "      <td>136.0</td>\n",
              "      <td>1</td>\n",
              "      <td>3</td>\n",
              "      <td>2018-11-23</td>\n",
              "      <td>3.00</td>\n",
              "      <td>18</td>\n",
              "      <td>76</td>\n",
              "      <td>0</td>\n",
              "      <td>32</td>\n",
              "      <td>157.2</td>\n",
              "    </tr>\n",
              "    <tr>\n",
              "      <th>19774</th>\n",
              "      <td>21257956</td>\n",
              "      <td>The Tree House</td>\n",
              "      <td>153715121</td>\n",
              "      <td>Gary</td>\n",
              "      <td>Sutherland Shire</td>\n",
              "      <td>-34.053439</td>\n",
              "      <td>151.033342</td>\n",
              "      <td>Private room</td>\n",
              "      <td>90.0</td>\n",
              "      <td>2</td>\n",
              "      <td>14</td>\n",
              "      <td>2018-10-01</td>\n",
              "      <td>1.11</td>\n",
              "      <td>1</td>\n",
              "      <td>172</td>\n",
              "      <td>1</td>\n",
              "      <td>31</td>\n",
              "      <td>222.8</td>\n",
              "    </tr>\n",
              "    <tr>\n",
              "      <th>36383</th>\n",
              "      <td>30536258</td>\n",
              "      <td>Spacious North Bondi Oasis - 1 Bedroom Apartment</td>\n",
              "      <td>16765619</td>\n",
              "      <td>Brendan</td>\n",
              "      <td>Waverley</td>\n",
              "      <td>-33.884287</td>\n",
              "      <td>151.273168</td>\n",
              "      <td>Entire home/apt</td>\n",
              "      <td>251.0</td>\n",
              "      <td>2</td>\n",
              "      <td>0</td>\n",
              "      <td>NaN</td>\n",
              "      <td>NaN</td>\n",
              "      <td>1</td>\n",
              "      <td>23</td>\n",
              "      <td>0</td>\n",
              "      <td>35</td>\n",
              "      <td>141.8</td>\n",
              "    </tr>\n",
              "  </tbody>\n",
              "</table>\n",
              "</div>"
            ],
            "text/plain": [
              "             id  ... predict_data\n",
              "9509   12142056  ...        101.8\n",
              "12397  15481369  ...         51.4\n",
              "32364  29292722  ...        157.2\n",
              "19774  21257956  ...        222.8\n",
              "36383  30536258  ...        141.8\n",
              "\n",
              "[5 rows x 18 columns]"
            ]
          },
          "metadata": {
            "tags": []
          },
          "execution_count": 13
        }
      ]
    },
    {
      "cell_type": "code",
      "metadata": {
        "id": "2TMOnP2QsNRi",
        "colab_type": "code",
        "outputId": "e9f5a96a-8cd7-467e-8c35-b6ffebc0a00c",
        "colab": {
          "base_uri": "https://localhost:8080/",
          "height": 163
        }
      },
      "source": [
        "from sklearn.metrics import mean_squared_error\n",
        "test_data['squared_error'] = (test_data['predict_data'] - test_data['price'])**(2)\n",
        "mse = test_data['squared_error'].mean()\n",
        "rmse = mse ** (1/2)\n",
        "rmse\n"
      ],
      "execution_count": 14,
      "outputs": [
        {
          "output_type": "stream",
          "text": [
            "/usr/local/lib/python3.6/dist-packages/ipykernel_launcher.py:2: SettingWithCopyWarning: \n",
            "A value is trying to be set on a copy of a slice from a DataFrame.\n",
            "Try using .loc[row_indexer,col_indexer] = value instead\n",
            "\n",
            "See the caveats in the documentation: http://pandas.pydata.org/pandas-docs/stable/indexing.html#indexing-view-versus-copy\n",
            "  \n"
          ],
          "name": "stderr"
        },
        {
          "output_type": "execute_result",
          "data": {
            "text/plain": [
              "325.36091333694486"
            ]
          },
          "metadata": {
            "tags": []
          },
          "execution_count": 14
        }
      ]
    },
    {
      "cell_type": "code",
      "metadata": {
        "id": "hY5k5PYTnst7",
        "colab_type": "code",
        "outputId": "ecb27642-0353-4631-8986-932cd7ab9576",
        "colab": {
          "base_uri": "https://localhost:8080/",
          "height": 125
        }
      },
      "source": [
        "print(\"RMSE for the {} column: {}\".format('number_of_reviews',rmse))\n",
        "print(\"RMSE for the {} column: {}\".format('rt_encode',rmse))\n",
        "print(\"RMSE for the {} column: {}\".format('nbh_encode',rmse))\n",
        "print(\"RMSE for the {} column: {}\".format('availability_365',rmse))\n",
        "print(\"RMSE for the {} column: {}\".format('minimum_nights',rmse))\n",
        "print(\"RMSE for the {} column: {}\".format('calculated_host_listings_count',rmse))\n",
        "\n"
      ],
      "execution_count": 15,
      "outputs": [
        {
          "output_type": "stream",
          "text": [
            "RMSE for the number_of_reviews column: 325.36091333694486\n",
            "RMSE for the rt_encode column: 325.36091333694486\n",
            "RMSE for the nbh_encode column: 325.36091333694486\n",
            "RMSE for the availability_365 column: 325.36091333694486\n",
            "RMSE for the minimum_nights column: 325.36091333694486\n",
            "RMSE for the calculated_host_listings_count column: 325.36091333694486\n"
          ],
          "name": "stdout"
        }
      ]
    },
    {
      "cell_type": "code",
      "metadata": {
        "id": "tAN38OqiDrqL",
        "colab_type": "code",
        "colab": {
          "base_uri": "https://localhost:8080/",
          "height": 286
        },
        "outputId": "52f8d938-6555-4e48-9583-a61347ee45ae"
      },
      "source": [
        "fig, ax = plt.subplots()\n",
        "ax.scatter(x = train_data['room_type'], y = train_data['price'])\n",
        "plt.ylabel('price', fontsize=12)\n",
        "plt.xlabel('room_type', fontsize=12)\n",
        "plt.show()"
      ],
      "execution_count": 28,
      "outputs": [
        {
          "output_type": "display_data",
          "data": {
            "image/png": "[encoded data removed]",
            "text/plain": [
              "<Figure size 432x288 with 1 Axes>"
            ]
          },
          "metadata": {
            "tags": []
          }
        }
      ]
    },
    {
      "cell_type": "code",
      "metadata": {
        "id": "WAi0AXacRo4z",
        "colab_type": "code",
        "colab": {
          "base_uri": "https://localhost:8080/",
          "height": 286
        },
        "outputId": "2f22f312-5038-4de7-c875-df84992162a4"
      },
      "source": [
        "#Deleting outliers\n",
        "train_data = train_data.drop(train_data[(train_data['price']<4000)].index)\n",
        "\n",
        "#Check the graphic again\n",
        "fig, ax = plt.subplots()\n",
        "ax.scatter(train_data['room_type'], train_data['price'])\n",
        "plt.ylabel('price', fontsize=12)\n",
        "plt.xlabel('room_type', fontsize=12)\n",
        "plt.show()"
      ],
      "execution_count": 35,
      "outputs": [
        {
          "output_type": "display_data",
          "data": {
            "image/png": "[encoded data removed]",
            "text/plain": [
              "<Figure size 432x288 with 1 Axes>"
            ]
          },
          "metadata": {
            "tags": []
          }
        }
      ]
    },
    {
      "cell_type": "code",
      "metadata": {
        "id": "E38dOIIJTJvj",
        "colab_type": "code",
        "colab": {
          "base_uri": "https://localhost:8080/",
          "height": 627
        },
        "outputId": "92fae628-3326-4d6e-f534-cdfe3fcbd6a9"
      },
      "source": [
        "from scipy import stats\n",
        "from scipy.stats import norm, skew #for some statistics\n",
        "sns.distplot(train_data['price'] , fit=norm);\n",
        "\n",
        "# Get the fitted parameters used by the function\n",
        "(mu, sigma) = norm.fit(train_data['price'])\n",
        "print( '\\n mu = {:.2f} and sigma = {:.2f}\\n'.format(mu, sigma))\n",
        "\n",
        "#Now plot the distribution\n",
        "plt.legend(['Normal dist. ($\\mu=$ {:.2f} and $\\sigma=$ {:.2f} )'.format(mu, sigma)],\n",
        "            loc='best')\n",
        "plt.ylabel('Frequency')\n",
        "plt.title('price distribution')\n",
        "\n",
        "#Get also the QQ-plot\n",
        "fig = plt.figure()\n",
        "res = stats.probplot(train_data['price'], plot=plt)\n",
        "plt.show()"
      ],
      "execution_count": 39,
      "outputs": [
        {
          "output_type": "stream",
          "text": [
            "\n",
            " mu = 7884.40 and sigma = 2703.09\n",
            "\n"
          ],
          "name": "stdout"
        },
        {
          "output_type": "display_data",
          "data": {
            "image/png": "[encoded data removed]",
            "text/plain": [
              "<Figure size 432x288 with 1 Axes>"
            ]
          },
          "metadata": {
            "tags": []
          }
        },
        {
          "output_type": "display_data",
          "data": {
            "image/png": "[encoded data removed]",
            "text/plain": [
              "<Figure size 432x288 with 1 Axes>"
            ]
          },
          "metadata": {
            "tags": []
          }
        }
      ]
    },
    {
      "cell_type": "code",
      "metadata": {
        "id": "rVpEh5p1opCZ",
        "colab_type": "code",
        "colab": {
          "base_uri": "https://localhost:8080/",
          "height": 125
        },
        "outputId": "7508f01e-77f3-45a6-ab80-0d705f336697"
      },
      "source": [
        "#check the data sheet\n",
        "df.columns"
      ],
      "execution_count": 57,
      "outputs": [
        {
          "output_type": "execute_result",
          "data": {
            "text/plain": [
              "Index(['id', 'name', 'host_id', 'host_name', 'neighbourhood_group',\n",
              "       'neighbourhood', 'latitude', 'longitude', 'room_type', 'price',\n",
              "       'minimum_nights', 'number_of_reviews', 'last_review',\n",
              "       'reviews_per_month', 'calculated_host_listings_count',\n",
              "       'availability_365'],\n",
              "      dtype='object')"
            ]
          },
          "metadata": {
            "tags": []
          },
          "execution_count": 57
        }
      ]
    },
    {
      "cell_type": "code",
      "metadata": {
        "id": "S_isL2f6p482",
        "colab_type": "code",
        "colab": {
          "base_uri": "https://localhost:8080/",
          "height": 179
        },
        "outputId": "d5c7b85c-c89d-4138-e218-33cc3eb135d4"
      },
      "source": [
        "#descriptive statistics summary\n",
        "df['price'].describe()"
      ],
      "execution_count": 58,
      "outputs": [
        {
          "output_type": "execute_result",
          "data": {
            "text/plain": [
              "count    36662.000000\n",
              "mean       207.689597\n",
              "std        323.818795\n",
              "min          0.000000\n",
              "25%         80.000000\n",
              "50%        136.000000\n",
              "75%        223.000000\n",
              "max      14999.000000\n",
              "Name: price, dtype: float64"
            ]
          },
          "metadata": {
            "tags": []
          },
          "execution_count": 58
        }
      ]
    },
    {
      "cell_type": "code",
      "metadata": {
        "id": "_K0hVzkww2p3",
        "colab_type": "code",
        "colab": {
          "base_uri": "https://localhost:8080/",
          "height": 431
        },
        "outputId": "0d6429bd-dea5-4b84-9adb-8d0b781a7c84"
      },
      "source": [
        "#box plot minimum_nights/price\n",
        "var = 'minimum_nights'\n",
        "data = pd.concat([df['price'], df[var]], axis=1)\n",
        "f, ax = plt.subplots(figsize=(50,6))\n",
        "fig = sns.boxplot(x=var, y=\"price\", data=data)\n",
        "fig.axis(ymin=0, ymax=12000)"
      ],
      "execution_count": 76,
      "outputs": [
        {
          "output_type": "execute_result",
          "data": {
            "text/plain": [
              "(-0.5, 92.5, 0, 12000)"
            ]
          },
          "metadata": {
            "tags": []
          },
          "execution_count": 76
        },
        {
          "output_type": "display_data",
          "data": {
            "image/png": "[encoded data removed]",
            "text/plain": [
              "<Figure size 3600x432 with 1 Axes>"
            ]
          },
          "metadata": {
            "tags": []
          }
        }
      ]
    }
  ]
}