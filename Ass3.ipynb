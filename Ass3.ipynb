{
  "nbformat": 4,
  "nbformat_minor": 0,
  "metadata": {
    "colab": {
      "name": "Ass3.ipynb",
      "provenance": [],
      "collapsed_sections": [],
      "include_colab_link": true
    },
    "kernelspec": {
      "name": "python3",
      "display_name": "Python 3"
    }
  },
  "cells": [
    {
      "cell_type": "markdown",
      "metadata": {
        "id": "view-in-github",
        "colab_type": "text"
      },
      "source": [
        "<a href=\"https://colab.research.google.com/github/Chenjie-UTS/UTS_ML2019-ID12769194/blob/master/Ass3.ipynb\" target=\"_parent\"><img src=\"https://colab.research.google.com/assets/colab-badge.svg\" alt=\"Open In Colab\"/></a>"
      ]
    },
    {
      "cell_type": "markdown",
      "metadata": {
        "id": "oo4XWDv2CW_r",
        "colab_type": "text"
      },
      "source": [
        "# **An Easy-to-Use Smart Home Assistant**"
      ]
    },
    {
      "cell_type": "markdown",
      "metadata": {
        "id": "X62ZTirjGaen",
        "colab_type": "text"
      },
      "source": [
        "# **Aims**:"
      ]
    },
    {
      "cell_type": "markdown",
      "metadata": {
        "id": "Gz5YQpR1GiUF",
        "colab_type": "text"
      },
      "source": [
        "Develop a convenient smart home assistant that can be used by old people who do not know technology and live alone.\n",
        "1. Collect information from the elderly about the percentage, level of understanding and requirements of new technologies. These data will be used as a training set.\n",
        "2. Select some appropriate algorithm or classifiers to evaluate the data set.\n",
        "3. Project deployment, validation and implementation."
      ]
    },
    {
      "cell_type": "markdown",
      "metadata": {
        "id": "O3xGc84yCmqX",
        "colab_type": "text"
      },
      "source": [
        "# **Background:**"
      ]
    },
    {
      "cell_type": "markdown",
      "metadata": {
        "id": "4-Lgh-AOCyC7",
        "colab_type": "text"
      },
      "source": [
        "In recent years, companies in various industries have shown a rapid increase in interest in artificial intelligence. Since 2011, companies that have developed and commercialized AI-related products and technologies have received more than 2 billion dollars in venture capital. Moreover, tech giants are investing billions of dollars in AI startups. According to Tractica’s Report, the enterprise AI systems market will grow to $11.1 billion in the 10 years after 2015 from 202.5 million dollars. The era of digital technology and artificial intelligence has come and brought about great positive change. Smart homes are becoming increasingly popular, but many older people have not been exposed to many existing technologies. They cannot quickly understand and use these technologies. An easy-to-use smart home assistant can help them a lot, especially for elderly people who live alone. This will be a worthwhile investment.\n",
        "\n",
        "<img src=\"https://github.com/Chenjie-UTS/UTS_ML2019-ID12769194/blob/master/figure%201.jpg?raw=true\" width=\"800\"/>\n",
        "\n",
        "The current field of artificial intelligence mainly uses cognitive technology, including computer vision, natural language processing and voice recognition. Cognitive technology can help devices perform tasks previously only humans could. Through computer vision, computers can recognize objects, scenes and activities from images. Natural language processing is also an important part in AI. It could give computers the same text-processing power as humans. Voice recognition technology gives computers the ability to automatically and accurately transcribe human speech. These three technologies are closely related to this project plan. Overton (2018) state that the use of artificial intelligence helps connect different systems and improve the way humans interact with machines. However, many older people do not know much about the new technology. They may also have various other problems, such as memory loss, which makes them difficult to accept new knowledge. In this project, natural language processing and voice recognition can provide effective help for the elderly. Moreover, image recognition can provide an additional way for the elderly to use new technology when other ways are not available."
      ]
    },
    {
      "cell_type": "markdown",
      "metadata": {
        "id": "G0WsjJS_24Rj",
        "colab_type": "text"
      },
      "source": [
        "# **Research Project**"
      ]
    },
    {
      "cell_type": "markdown",
      "metadata": {
        "id": "pRnY3wxPDdTJ",
        "colab_type": "text"
      },
      "source": [
        "The rapid development of IT technology sometimes makes it difficult for some young people to accept IT quickly. Older people are less familiar with new technologies, which makes it more difficult for them to accept and use these high-tech products. In addition, the elderly also faces more problems when using smart products. The decline in memory makes it difficult for them to remember complex steps and understand the functions of different keys. Nowadays, more and more people use smart products, but the above reasons make it difficult to promote them to the elderly, especially the elderly who live alone. They need a longer learning process to understand how new products are used, and their children often do not have as much time to do so. In addition, according to the preliminary investigation, elderly people living alone will also have various inconveniences. I have done some simple interviews with elderly people and found that most of them are willing to accept the convenience of using these new products if someone has the patience to guide them. Therefore, I hope to solve these problems by developing an easy-to-use smart home assistant. I want to provide service to the elderly at any time and help them solve some life problems through the smart assistant.\n",
        "\n",
        "In this project, I want to bring convenience to people, especially elderly people living alone, in three aspects: image, text and voice. I want to help users learn to use new high-tech products from a real perspective through the popular AR technology. Augmented reality (AR) is an interactive experience that integrates the components of the digital world into people's perception of the real world and perceives it as a natural part of reality by integrating immersion (Wikipedia, 2019). Then, through business cooperation, the smart assistant is connected to high-tech products from different manufacturers. This is to make it easier for the elderly to quickly learn about the products and get professional help from the merchant if necessary. For example, when the intelligent cleaning robot fails to work, the user can scan and analyze it by using my intelligent assistant's application, and conduct simple inspection and repair it by following the guidance of AR. The user also can send the analysis report to the manufacturer to get professional help quickly.\n",
        "\n",
        "In addition, users can use keyword search to quickly find the functions they need to use in the smart assistant. This saves the elderly the trouble of memorizing the functions of different buttons and the complicated operation steps. Moreover, voice recognition is a good aid in this respect. Many elderly people have problems with impaired eyesight and inconvenient hands and feet. Voice recognition ensures they have easy access to smart assistants. The novelty of this project is the introduction of the VTuber concept. Virtual YouTubers (or VTubers) are online entertainers represented by digital avatars generated by computer graphics (Wikipedia, 2019). I hope the smart assistant is not a system like Siri, but more human. Through regular VTuber performances, users can get a different experience from smart assistant. Elderly people who live alone can pay for services from VTubers such as chat when they feel lonely. Undoubtedly, users can set this feature to be disabled. I think it will bring a huge benefit once this project is realized, because this is a growing market.\n",
        "\n",
        "<img src=\"https://github.com/Chenjie-UTS/UTS_ML2019-ID12769194/blob/master/Vtuber.png?raw=true\" width=\"800\"/>"
      ]
    },
    {
      "cell_type": "markdown",
      "metadata": {
        "id": "UaMxbg7gFxn4",
        "colab_type": "text"
      },
      "source": [
        ""
      ]
    }
  ]
}