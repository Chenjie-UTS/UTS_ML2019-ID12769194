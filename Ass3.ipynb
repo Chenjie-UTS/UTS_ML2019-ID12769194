{
  "nbformat": 4,
  "nbformat_minor": 0,
  "metadata": {
    "colab": {
      "name": "Ass3.ipynb",
      "provenance": [],
      "include_colab_link": true
    },
    "kernelspec": {
      "name": "python3",
      "display_name": "Python 3"
    }
  },
  "cells": [
    {
      "cell_type": "markdown",
      "metadata": {
        "id": "view-in-github",
        "colab_type": "text"
      },
      "source": [
        "<a href=\"https://colab.research.google.com/github/Chenjie-UTS/UTS_ML2019-ID12769194/blob/master/Ass3.ipynb\" target=\"_parent\"><img src=\"https://colab.research.google.com/assets/colab-badge.svg\" alt=\"Open In Colab\"/></a>"
      ]
    },
    {
      "cell_type": "markdown",
      "metadata": {
        "id": "oo4XWDv2CW_r",
        "colab_type": "text"
      },
      "source": [
        "# **An Easy-to-Use Smart Home Assistant**"
      ]
    },
    {
      "cell_type": "markdown",
      "metadata": {
        "id": "X62ZTirjGaen",
        "colab_type": "text"
      },
      "source": [
        "# **Aims**:"
      ]
    },
    {
      "cell_type": "markdown",
      "metadata": {
        "id": "Gz5YQpR1GiUF",
        "colab_type": "text"
      },
      "source": [
        "Develop a convenient smart home assistant that can be used by old people who do not know technology and live alone.\n",
        "1. Collect information from the elderly about the percentage, level of understanding and requirements of new technologies. These data will be used as a training set.\n",
        "2. Select some appropriate algorithm or classifiers to evaluate the data set.\n",
        "3. Project deployment, validation and implementation."
      ]
    },
    {
      "cell_type": "markdown",
      "metadata": {
        "id": "O3xGc84yCmqX",
        "colab_type": "text"
      },
      "source": [
        "# **Background:**"
      ]
    },
    {
      "cell_type": "markdown",
      "metadata": {
        "id": "4-Lgh-AOCyC7",
        "colab_type": "text"
      },
      "source": [
        "In recent years, companies in various industries have shown a rapid increase in interest in artificial intelligence. Since 2011, companies that have developed and commercialized AI-related products and technologies have received more than 2 billion dollars in venture capital. Moreover, tech giants are investing billions of dollars in AI startups. According to Tractica’s Report, the enterprise AI systems market will grow to $11.1 billion in the 10 years after 2015 from 202.5 million dollars. The era of digital technology and artificial intelligence has come and brought about great positive change. Smart homes are becoming increasingly popular, but many older people have not been exposed to many existing technologies. They cannot quickly understand and use these technologies. An easy-to-use smart home assistant can help them a lot, especially for elderly people who live alone. This will be a worthwhile investment.\n",
        "\n",
        "<img src=\"https://github.com/Chenjie-UTS/UTS_ML2019-ID12769194/blob/master/figure%201.jpg?raw=true\" width=\"800\"/>\n",
        "\n",
        "The current field of artificial intelligence mainly uses cognitive technology, including computer vision, natural language processing and voice recognition. Cognitive technology can help devices perform tasks previously only humans could. Through computer vision, computers can recognize objects, scenes and activities from images. Natural language processing is also an important part in AI. It could give computers the same text-processing power as humans. Voice recognition technology gives computers the ability to automatically and accurately transcribe human speech. These three technologies are closely related to this project plan. Overton (2018) state that the use of artificial intelligence helps connect different systems and improve the way humans interact with machines. However, many older people do not know much about the new technology. They may also have various other problems, such as memory loss, which makes them difficult to accept new knowledge. In this project, natural language processing and voice recognition can provide effective help for the elderly. Moreover, image recognition can provide an additional way for the elderly to use new technology when other ways are not available."
      ]
    },
    {
      "cell_type": "markdown",
      "metadata": {
        "id": "MknliJ0wDIxb",
        "colab_type": "text"
      },
      "source": [
        ""
      ]
    },
    {
      "cell_type": "markdown",
      "metadata": {
        "id": "pRnY3wxPDdTJ",
        "colab_type": "text"
      },
      "source": [
        ""
      ]
    },
    {
      "cell_type": "markdown",
      "metadata": {
        "id": "UaMxbg7gFxn4",
        "colab_type": "text"
      },
      "source": [
        ""
      ]
    }
  ]
}